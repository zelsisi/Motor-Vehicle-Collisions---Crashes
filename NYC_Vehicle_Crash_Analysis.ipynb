{
 "cells": [
  {
   "cell_type": "markdown",
   "id": "8cf39c9c-f2f0-4a40-aed5-98525ca67b09",
   "metadata": {},
   "source": [
    "# NY Motor Vehicle Collisions – Exploratory Data Analysis  \n",
    "In this notebook, we analyze New York’s Vehicular crash data available at https://data.cityofnewyork.us/Public-Safety/Motor-Vehicle-Collisions-Crashes/h9gi-nx95\n",
    "\n",
    "\n",
    "The data contains information from all police reported motor vehicle collisions in NYC. The information for this dataset is collated from the police report, called MV104-AN, which is required to be filled out for collisions where someone is injured or killed, or where there is at least $1000 worth of damage.\n",
    "\n",
    "Data is available from 2012-07-01 onwards, however for this analysis, we will limit ourselves to the period up to 2023-08-15, which is when the data was downloaded.\n",
    "\n",
    "We find that this data contains over 2 million observations, which allows us to explore several aspects of vehicle crashes in NY's boroughs.\n",
    "\n",
    "The data dictionary for the data is also available at the URL above.\n",
    "\n",
    "First, we perform unstructured exploration of the data, and then try to answer the following questions:\n",
    "\n",
    "- We look for which borough has had the maximum number of crashes reported since 2012.\n",
    "\n",
    "- We relate the number of crashes to to the borough's population to find out which borough has the maximum number of crashes for every 100,000 people. Even though the data does not have this information, we can combine the crash data with the population estimates for the boroughs also available from the City of New York's website (https://data.cityofnewyork.us/City-Government/New-York-City-Population-by-Borough-1950-2040/xywu-7bv9)\n",
    "\n",
    "| Borough | Population |\n",
    "| --- | --- |\n",
    "| Bronx | 1446788 |\n",
    "| Brooklyn | 2648452 |\n",
    "| Manhattan | 1638281 |\n",
    "| Queens | 2330295 |\n",
    "| Staten Island | 487155 |  \n",
    "\n",
    "  \n",
    "- We look for the leading cause of crashes\n",
    "\n",
    "- We also look for the top-3 causes of crashes, and try to calculate what proportion of all crashes are caused by these top-3 causes.\n",
    "\n",
    "- We then look to some of the more serious implications of crashes by examining how many accidents involved at least one fatality.\n",
    "\n",
    "- We then compute, on average, out of every 1000 accidents, how many have resulted in at least one person dead.\n",
    "\n",
    "- We also look for missing data and try to compute the proportion of accidents in the data that do not have a Borough code.\n",
    "\n",
    "- The fields 'VEHICLE TYPE CODE 1' and 'VEHICLE TYPE CODE 2' represent the first two vehicles involved in the accident.  We look for which combinations of vehicles have the most number of accidents.\n"
   ]
  },
  {
   "cell_type": "code",
   "execution_count": 1,
   "id": "e90154cc-c88a-4fe4-8aa2-f24d9a27ffac",
   "metadata": {
    "tags": []
   },
   "outputs": [],
   "source": [
    "import pandas as pd\n",
    "import numpy as np\n",
    "import seaborn as sns\n",
    "import os\n",
    "import matplotlib.pyplot as plt\n",
    "import phik\n",
    "from IPython.display import Markdown as md"
   ]
  },
  {
   "cell_type": "code",
   "execution_count": 8,
   "id": "aa8a1971-98b8-41ff-801d-eb9da4758bb6",
   "metadata": {
    "tags": []
   },
   "outputs": [
    {
     "data": {
      "text/html": [
       "<div>\n",
       "<style scoped>\n",
       "    .dataframe tbody tr th:only-of-type {\n",
       "        vertical-align: middle;\n",
       "    }\n",
       "\n",
       "    .dataframe tbody tr th {\n",
       "        vertical-align: top;\n",
       "    }\n",
       "\n",
       "    .dataframe thead th {\n",
       "        text-align: right;\n",
       "    }\n",
       "</style>\n",
       "<table border=\"1\" class=\"dataframe\">\n",
       "  <thead>\n",
       "    <tr style=\"text-align: right;\">\n",
       "      <th></th>\n",
       "      <th>CRASH DATE_CRASH TIME</th>\n",
       "      <th>BOROUGH</th>\n",
       "      <th>ZIP CODE</th>\n",
       "      <th>LATITUDE</th>\n",
       "      <th>LONGITUDE</th>\n",
       "      <th>LOCATION</th>\n",
       "      <th>ON STREET NAME</th>\n",
       "      <th>CROSS STREET NAME</th>\n",
       "      <th>OFF STREET NAME</th>\n",
       "      <th>NUMBER OF PERSONS INJURED</th>\n",
       "      <th>...</th>\n",
       "      <th>CONTRIBUTING FACTOR VEHICLE 2</th>\n",
       "      <th>CONTRIBUTING FACTOR VEHICLE 3</th>\n",
       "      <th>CONTRIBUTING FACTOR VEHICLE 4</th>\n",
       "      <th>CONTRIBUTING FACTOR VEHICLE 5</th>\n",
       "      <th>COLLISION_ID</th>\n",
       "      <th>VEHICLE TYPE CODE 1</th>\n",
       "      <th>VEHICLE TYPE CODE 2</th>\n",
       "      <th>VEHICLE TYPE CODE 3</th>\n",
       "      <th>VEHICLE TYPE CODE 4</th>\n",
       "      <th>VEHICLE TYPE CODE 5</th>\n",
       "    </tr>\n",
       "  </thead>\n",
       "  <tbody>\n",
       "    <tr>\n",
       "      <th>0</th>\n",
       "      <td>2021-09-11 02:39:00</td>\n",
       "      <td>NaN</td>\n",
       "      <td>NaN</td>\n",
       "      <td>NaN</td>\n",
       "      <td>NaN</td>\n",
       "      <td>NaN</td>\n",
       "      <td>WHITESTONE EXPRESSWAY</td>\n",
       "      <td>20 AVENUE</td>\n",
       "      <td>NaN</td>\n",
       "      <td>2.0</td>\n",
       "      <td>...</td>\n",
       "      <td>Unspecified</td>\n",
       "      <td>NaN</td>\n",
       "      <td>NaN</td>\n",
       "      <td>NaN</td>\n",
       "      <td>4455765</td>\n",
       "      <td>Sedan</td>\n",
       "      <td>Sedan</td>\n",
       "      <td>NaN</td>\n",
       "      <td>NaN</td>\n",
       "      <td>NaN</td>\n",
       "    </tr>\n",
       "    <tr>\n",
       "      <th>1</th>\n",
       "      <td>2022-03-26 11:45:00</td>\n",
       "      <td>NaN</td>\n",
       "      <td>NaN</td>\n",
       "      <td>NaN</td>\n",
       "      <td>NaN</td>\n",
       "      <td>NaN</td>\n",
       "      <td>QUEENSBORO BRIDGE UPPER</td>\n",
       "      <td>NaN</td>\n",
       "      <td>NaN</td>\n",
       "      <td>1.0</td>\n",
       "      <td>...</td>\n",
       "      <td>NaN</td>\n",
       "      <td>NaN</td>\n",
       "      <td>NaN</td>\n",
       "      <td>NaN</td>\n",
       "      <td>4513547</td>\n",
       "      <td>Sedan</td>\n",
       "      <td>NaN</td>\n",
       "      <td>NaN</td>\n",
       "      <td>NaN</td>\n",
       "      <td>NaN</td>\n",
       "    </tr>\n",
       "    <tr>\n",
       "      <th>2</th>\n",
       "      <td>2022-06-29 06:55:00</td>\n",
       "      <td>NaN</td>\n",
       "      <td>NaN</td>\n",
       "      <td>NaN</td>\n",
       "      <td>NaN</td>\n",
       "      <td>NaN</td>\n",
       "      <td>THROGS NECK BRIDGE</td>\n",
       "      <td>NaN</td>\n",
       "      <td>NaN</td>\n",
       "      <td>0.0</td>\n",
       "      <td>...</td>\n",
       "      <td>Unspecified</td>\n",
       "      <td>NaN</td>\n",
       "      <td>NaN</td>\n",
       "      <td>NaN</td>\n",
       "      <td>4541903</td>\n",
       "      <td>Sedan</td>\n",
       "      <td>Pick-up Truck</td>\n",
       "      <td>NaN</td>\n",
       "      <td>NaN</td>\n",
       "      <td>NaN</td>\n",
       "    </tr>\n",
       "    <tr>\n",
       "      <th>3</th>\n",
       "      <td>2021-09-11 09:35:00</td>\n",
       "      <td>BROOKLYN</td>\n",
       "      <td>11208.0</td>\n",
       "      <td>40.667202</td>\n",
       "      <td>-73.866500</td>\n",
       "      <td>(40.667202, -73.8665)</td>\n",
       "      <td>NaN</td>\n",
       "      <td>NaN</td>\n",
       "      <td>1211      LORING AVENUE</td>\n",
       "      <td>0.0</td>\n",
       "      <td>...</td>\n",
       "      <td>NaN</td>\n",
       "      <td>NaN</td>\n",
       "      <td>NaN</td>\n",
       "      <td>NaN</td>\n",
       "      <td>4456314</td>\n",
       "      <td>Sedan</td>\n",
       "      <td>NaN</td>\n",
       "      <td>NaN</td>\n",
       "      <td>NaN</td>\n",
       "      <td>NaN</td>\n",
       "    </tr>\n",
       "    <tr>\n",
       "      <th>4</th>\n",
       "      <td>2021-12-14 08:13:00</td>\n",
       "      <td>BROOKLYN</td>\n",
       "      <td>11233.0</td>\n",
       "      <td>40.683304</td>\n",
       "      <td>-73.917274</td>\n",
       "      <td>(40.683304, -73.917274)</td>\n",
       "      <td>SARATOGA AVENUE</td>\n",
       "      <td>DECATUR STREET</td>\n",
       "      <td>NaN</td>\n",
       "      <td>0.0</td>\n",
       "      <td>...</td>\n",
       "      <td>NaN</td>\n",
       "      <td>NaN</td>\n",
       "      <td>NaN</td>\n",
       "      <td>NaN</td>\n",
       "      <td>4486609</td>\n",
       "      <td>NaN</td>\n",
       "      <td>NaN</td>\n",
       "      <td>NaN</td>\n",
       "      <td>NaN</td>\n",
       "      <td>NaN</td>\n",
       "    </tr>\n",
       "    <tr>\n",
       "      <th>...</th>\n",
       "      <td>...</td>\n",
       "      <td>...</td>\n",
       "      <td>...</td>\n",
       "      <td>...</td>\n",
       "      <td>...</td>\n",
       "      <td>...</td>\n",
       "      <td>...</td>\n",
       "      <td>...</td>\n",
       "      <td>...</td>\n",
       "      <td>...</td>\n",
       "      <td>...</td>\n",
       "      <td>...</td>\n",
       "      <td>...</td>\n",
       "      <td>...</td>\n",
       "      <td>...</td>\n",
       "      <td>...</td>\n",
       "      <td>...</td>\n",
       "      <td>...</td>\n",
       "      <td>...</td>\n",
       "      <td>...</td>\n",
       "      <td>...</td>\n",
       "    </tr>\n",
       "    <tr>\n",
       "      <th>2018240</th>\n",
       "      <td>2023-07-03 18:05:00</td>\n",
       "      <td>NaN</td>\n",
       "      <td>NaN</td>\n",
       "      <td>40.866806</td>\n",
       "      <td>-73.931010</td>\n",
       "      <td>(40.866806, -73.93101)</td>\n",
       "      <td>RIVERSIDE DRIVE</td>\n",
       "      <td>NaN</td>\n",
       "      <td>NaN</td>\n",
       "      <td>0.0</td>\n",
       "      <td>...</td>\n",
       "      <td>Unspecified</td>\n",
       "      <td>NaN</td>\n",
       "      <td>NaN</td>\n",
       "      <td>NaN</td>\n",
       "      <td>4648110</td>\n",
       "      <td>Sedan</td>\n",
       "      <td>Sedan</td>\n",
       "      <td>NaN</td>\n",
       "      <td>NaN</td>\n",
       "      <td>NaN</td>\n",
       "    </tr>\n",
       "    <tr>\n",
       "      <th>2018241</th>\n",
       "      <td>2023-07-22 21:39:00</td>\n",
       "      <td>BRONX</td>\n",
       "      <td>10457.0</td>\n",
       "      <td>40.844177</td>\n",
       "      <td>-73.902920</td>\n",
       "      <td>(40.844177, -73.90292)</td>\n",
       "      <td>EAST 174 STREET</td>\n",
       "      <td>WEBSTER AVENUE</td>\n",
       "      <td>NaN</td>\n",
       "      <td>1.0</td>\n",
       "      <td>...</td>\n",
       "      <td>NaN</td>\n",
       "      <td>NaN</td>\n",
       "      <td>NaN</td>\n",
       "      <td>NaN</td>\n",
       "      <td>4648117</td>\n",
       "      <td>Sedan</td>\n",
       "      <td>NaN</td>\n",
       "      <td>NaN</td>\n",
       "      <td>NaN</td>\n",
       "      <td>NaN</td>\n",
       "    </tr>\n",
       "    <tr>\n",
       "      <th>2018242</th>\n",
       "      <td>2023-07-02 17:55:00</td>\n",
       "      <td>MANHATTAN</td>\n",
       "      <td>10006.0</td>\n",
       "      <td>40.711033</td>\n",
       "      <td>-74.014540</td>\n",
       "      <td>(40.711033, -74.01454)</td>\n",
       "      <td>WEST STREET</td>\n",
       "      <td>LIBERTY STREET</td>\n",
       "      <td>NaN</td>\n",
       "      <td>0.0</td>\n",
       "      <td>...</td>\n",
       "      <td>NaN</td>\n",
       "      <td>NaN</td>\n",
       "      <td>NaN</td>\n",
       "      <td>NaN</td>\n",
       "      <td>4648366</td>\n",
       "      <td>Taxi</td>\n",
       "      <td>NaN</td>\n",
       "      <td>NaN</td>\n",
       "      <td>NaN</td>\n",
       "      <td>NaN</td>\n",
       "    </tr>\n",
       "    <tr>\n",
       "      <th>2018243</th>\n",
       "      <td>2023-07-22 13:15:00</td>\n",
       "      <td>QUEENS</td>\n",
       "      <td>11433.0</td>\n",
       "      <td>40.691580</td>\n",
       "      <td>-73.793190</td>\n",
       "      <td>(40.69158, -73.79319)</td>\n",
       "      <td>110 AVENUE</td>\n",
       "      <td>157 STREET</td>\n",
       "      <td>NaN</td>\n",
       "      <td>1.0</td>\n",
       "      <td>...</td>\n",
       "      <td>Driver Inattention/Distraction</td>\n",
       "      <td>NaN</td>\n",
       "      <td>NaN</td>\n",
       "      <td>NaN</td>\n",
       "      <td>4648129</td>\n",
       "      <td>Station Wagon/Sport Utility Vehicle</td>\n",
       "      <td>E-Bike</td>\n",
       "      <td>NaN</td>\n",
       "      <td>NaN</td>\n",
       "      <td>NaN</td>\n",
       "    </tr>\n",
       "    <tr>\n",
       "      <th>2018244</th>\n",
       "      <td>2023-07-22 03:00:00</td>\n",
       "      <td>QUEENS</td>\n",
       "      <td>11433.0</td>\n",
       "      <td>40.700240</td>\n",
       "      <td>-73.792854</td>\n",
       "      <td>(40.70024, -73.792854)</td>\n",
       "      <td>SOUTH ROAD</td>\n",
       "      <td>164 STREET</td>\n",
       "      <td>NaN</td>\n",
       "      <td>0.0</td>\n",
       "      <td>...</td>\n",
       "      <td>NaN</td>\n",
       "      <td>NaN</td>\n",
       "      <td>NaN</td>\n",
       "      <td>NaN</td>\n",
       "      <td>4647913</td>\n",
       "      <td>Sedan</td>\n",
       "      <td>NaN</td>\n",
       "      <td>NaN</td>\n",
       "      <td>NaN</td>\n",
       "      <td>NaN</td>\n",
       "    </tr>\n",
       "  </tbody>\n",
       "</table>\n",
       "<p>2018245 rows × 28 columns</p>\n",
       "</div>"
      ],
      "text/plain": [
       "        CRASH DATE_CRASH TIME    BOROUGH ZIP CODE   LATITUDE  LONGITUDE  \\\n",
       "0         2021-09-11 02:39:00        NaN      NaN        NaN        NaN   \n",
       "1         2022-03-26 11:45:00        NaN      NaN        NaN        NaN   \n",
       "2         2022-06-29 06:55:00        NaN      NaN        NaN        NaN   \n",
       "3         2021-09-11 09:35:00   BROOKLYN  11208.0  40.667202 -73.866500   \n",
       "4         2021-12-14 08:13:00   BROOKLYN  11233.0  40.683304 -73.917274   \n",
       "...                       ...        ...      ...        ...        ...   \n",
       "2018240   2023-07-03 18:05:00        NaN      NaN  40.866806 -73.931010   \n",
       "2018241   2023-07-22 21:39:00      BRONX  10457.0  40.844177 -73.902920   \n",
       "2018242   2023-07-02 17:55:00  MANHATTAN  10006.0  40.711033 -74.014540   \n",
       "2018243   2023-07-22 13:15:00     QUEENS  11433.0  40.691580 -73.793190   \n",
       "2018244   2023-07-22 03:00:00     QUEENS  11433.0  40.700240 -73.792854   \n",
       "\n",
       "                        LOCATION           ON STREET NAME CROSS STREET NAME  \\\n",
       "0                            NaN    WHITESTONE EXPRESSWAY         20 AVENUE   \n",
       "1                            NaN  QUEENSBORO BRIDGE UPPER               NaN   \n",
       "2                            NaN       THROGS NECK BRIDGE               NaN   \n",
       "3          (40.667202, -73.8665)                      NaN               NaN   \n",
       "4        (40.683304, -73.917274)          SARATOGA AVENUE    DECATUR STREET   \n",
       "...                          ...                      ...               ...   \n",
       "2018240   (40.866806, -73.93101)          RIVERSIDE DRIVE               NaN   \n",
       "2018241   (40.844177, -73.90292)          EAST 174 STREET    WEBSTER AVENUE   \n",
       "2018242   (40.711033, -74.01454)              WEST STREET    LIBERTY STREET   \n",
       "2018243    (40.69158, -73.79319)               110 AVENUE        157 STREET   \n",
       "2018244   (40.70024, -73.792854)               SOUTH ROAD        164 STREET   \n",
       "\n",
       "                 OFF STREET NAME  NUMBER OF PERSONS INJURED  ...  \\\n",
       "0                            NaN                        2.0  ...   \n",
       "1                            NaN                        1.0  ...   \n",
       "2                            NaN                        0.0  ...   \n",
       "3        1211      LORING AVENUE                        0.0  ...   \n",
       "4                            NaN                        0.0  ...   \n",
       "...                          ...                        ...  ...   \n",
       "2018240                      NaN                        0.0  ...   \n",
       "2018241                      NaN                        1.0  ...   \n",
       "2018242                      NaN                        0.0  ...   \n",
       "2018243                      NaN                        1.0  ...   \n",
       "2018244                      NaN                        0.0  ...   \n",
       "\n",
       "          CONTRIBUTING FACTOR VEHICLE 2  CONTRIBUTING FACTOR VEHICLE 3  \\\n",
       "0                           Unspecified                            NaN   \n",
       "1                                   NaN                            NaN   \n",
       "2                           Unspecified                            NaN   \n",
       "3                                   NaN                            NaN   \n",
       "4                                   NaN                            NaN   \n",
       "...                                 ...                            ...   \n",
       "2018240                     Unspecified                            NaN   \n",
       "2018241                             NaN                            NaN   \n",
       "2018242                             NaN                            NaN   \n",
       "2018243  Driver Inattention/Distraction                            NaN   \n",
       "2018244                             NaN                            NaN   \n",
       "\n",
       "         CONTRIBUTING FACTOR VEHICLE 4  CONTRIBUTING FACTOR VEHICLE 5  \\\n",
       "0                                  NaN                            NaN   \n",
       "1                                  NaN                            NaN   \n",
       "2                                  NaN                            NaN   \n",
       "3                                  NaN                            NaN   \n",
       "4                                  NaN                            NaN   \n",
       "...                                ...                            ...   \n",
       "2018240                            NaN                            NaN   \n",
       "2018241                            NaN                            NaN   \n",
       "2018242                            NaN                            NaN   \n",
       "2018243                            NaN                            NaN   \n",
       "2018244                            NaN                            NaN   \n",
       "\n",
       "         COLLISION_ID                  VEHICLE TYPE CODE 1  \\\n",
       "0             4455765                                Sedan   \n",
       "1             4513547                                Sedan   \n",
       "2             4541903                                Sedan   \n",
       "3             4456314                                Sedan   \n",
       "4             4486609                                  NaN   \n",
       "...               ...                                  ...   \n",
       "2018240       4648110                                Sedan   \n",
       "2018241       4648117                                Sedan   \n",
       "2018242       4648366                                 Taxi   \n",
       "2018243       4648129  Station Wagon/Sport Utility Vehicle   \n",
       "2018244       4647913                                Sedan   \n",
       "\n",
       "         VEHICLE TYPE CODE 2 VEHICLE TYPE CODE 3 VEHICLE TYPE CODE 4  \\\n",
       "0                      Sedan                 NaN                 NaN   \n",
       "1                        NaN                 NaN                 NaN   \n",
       "2              Pick-up Truck                 NaN                 NaN   \n",
       "3                        NaN                 NaN                 NaN   \n",
       "4                        NaN                 NaN                 NaN   \n",
       "...                      ...                 ...                 ...   \n",
       "2018240                Sedan                 NaN                 NaN   \n",
       "2018241                  NaN                 NaN                 NaN   \n",
       "2018242                  NaN                 NaN                 NaN   \n",
       "2018243               E-Bike                 NaN                 NaN   \n",
       "2018244                  NaN                 NaN                 NaN   \n",
       "\n",
       "        VEHICLE TYPE CODE 5  \n",
       "0                       NaN  \n",
       "1                       NaN  \n",
       "2                       NaN  \n",
       "3                       NaN  \n",
       "4                       NaN  \n",
       "...                     ...  \n",
       "2018240                 NaN  \n",
       "2018241                 NaN  \n",
       "2018242                 NaN  \n",
       "2018243                 NaN  \n",
       "2018244                 NaN  \n",
       "\n",
       "[2018245 rows x 28 columns]"
      ]
     },
     "execution_count": 8,
     "metadata": {},
     "output_type": "execute_result"
    }
   ],
   "source": [
    "df = pd.read_pickle(\"shared/Motor_Vehicle_Collisions_-_Crashes.pkl\")\n",
    "df"
   ]
  },
  {
   "cell_type": "markdown",
   "id": "87123ec4-745a-471d-9439-41b02b66e474",
   "metadata": {
    "tags": []
   },
   "source": [
    "***\n",
    "### Show some exploratory data analysis here\n",
    "***"
   ]
  },
  {
   "cell_type": "code",
   "execution_count": 3,
   "id": "4c22990a-2a8f-467f-b81e-9ea87305efae",
   "metadata": {
    "tags": []
   },
   "outputs": [
    {
     "data": {
      "text/plain": [
       "Index(['CRASH DATE_CRASH TIME', 'BOROUGH', 'ZIP CODE', 'LATITUDE', 'LONGITUDE',\n",
       "       'LOCATION', 'ON STREET NAME', 'CROSS STREET NAME', 'OFF STREET NAME',\n",
       "       'NUMBER OF PERSONS INJURED', 'NUMBER OF PERSONS KILLED',\n",
       "       'NUMBER OF PEDESTRIANS INJURED', 'NUMBER OF PEDESTRIANS KILLED',\n",
       "       'NUMBER OF CYCLIST INJURED', 'NUMBER OF CYCLIST KILLED',\n",
       "       'NUMBER OF MOTORIST INJURED', 'NUMBER OF MOTORIST KILLED',\n",
       "       'CONTRIBUTING FACTOR VEHICLE 1', 'CONTRIBUTING FACTOR VEHICLE 2',\n",
       "       'CONTRIBUTING FACTOR VEHICLE 3', 'CONTRIBUTING FACTOR VEHICLE 4',\n",
       "       'CONTRIBUTING FACTOR VEHICLE 5', 'COLLISION_ID', 'VEHICLE TYPE CODE 1',\n",
       "       'VEHICLE TYPE CODE 2', 'VEHICLE TYPE CODE 3', 'VEHICLE TYPE CODE 4',\n",
       "       'VEHICLE TYPE CODE 5'],\n",
       "      dtype='object')"
      ]
     },
     "execution_count": 3,
     "metadata": {},
     "output_type": "execute_result"
    }
   ],
   "source": [
    "df.columns\n",
    "#This code allows us to  see what columns are in the dataframe"
   ]
  },
  {
   "cell_type": "code",
   "execution_count": 4,
   "id": "d4dd84f8-242c-4b58-a4d5-b040003fe2f1",
   "metadata": {
    "tags": []
   },
   "outputs": [
    {
     "data": {
      "text/plain": [
       "YEAR\n",
       "2012    100545\n",
       "2013    203738\n",
       "2014    206033\n",
       "2015    217694\n",
       "2016    229831\n",
       "2017    231007\n",
       "2018    231564\n",
       "2019    211486\n",
       "2020    112915\n",
       "2021    110548\n",
       "2022    103865\n",
       "2023     59019\n",
       "Name: CRASH DATE_CRASH TIME, dtype: int64"
      ]
     },
     "execution_count": 4,
     "metadata": {},
     "output_type": "execute_result"
    }
   ],
   "source": [
    "df['YEAR'] = df['CRASH DATE_CRASH TIME'].dt.year\n",
    "df.groupby('YEAR')['CRASH DATE_CRASH TIME'].count()\n",
    "#This code allows us to see what years the dataframe contains"
   ]
  },
  {
   "cell_type": "markdown",
   "id": "1e7102e9-629a-4594-998d-a9b1e3e8c598",
   "metadata": {},
   "source": [
    "## Borough with the maximum number of crashes reported since 2012"
   ]
  },
  {
   "cell_type": "code",
   "execution_count": 5,
   "id": "bae94b86-8137-40ff-87ae-38d4de6993fa",
   "metadata": {
    "tags": []
   },
   "outputs": [
    {
     "data": {
      "text/plain": [
       "BOROUGH\n",
       "BROOKLYN         441026\n",
       "QUEENS           372457\n",
       "MANHATTAN        313266\n",
       "BRONX            205345\n",
       "STATEN ISLAND     58297\n",
       "Name: COLLISION_ID, dtype: int64"
      ]
     },
     "execution_count": 5,
     "metadata": {},
     "output_type": "execute_result"
    }
   ],
   "source": [
    "df.groupby('BOROUGH')['COLLISION_ID'].count().sort_values(ascending=False)\n",
    "#This code allows us to filter the number of crashes by borough"
   ]
  },
  {
   "cell_type": "code",
   "execution_count": 6,
   "id": "98e459b7-8cf1-458a-8544-26d253abe2ce",
   "metadata": {
    "tags": []
   },
   "outputs": [],
   "source": [
    "#The result shows us Brooklyn has had the most number of crashes reported since 2012."
   ]
  },
  {
   "cell_type": "code",
   "execution_count": 7,
   "id": "b92cd7ed-ea7a-42f9-a6bd-8a4532802abe",
   "metadata": {
    "tags": []
   },
   "outputs": [
    {
     "data": {
      "text/plain": [
       "627854"
      ]
     },
     "execution_count": 7,
     "metadata": {},
     "output_type": "execute_result"
    }
   ],
   "source": [
    "df['BOROUGH'].isna().sum()\n",
    "#This just shows us how many reports did not list the borough"
   ]
  },
  {
   "cell_type": "markdown",
   "id": "9dcc3fa1-abc2-45cf-b608-eb8eb6317f53",
   "metadata": {},
   "source": [
    "## Borough with the maximum number of crashes adjusted for population"
   ]
  },
  {
   "cell_type": "code",
   "execution_count": 17,
   "id": "802dc29b-f61b-4118-945f-2995c16df4b1",
   "metadata": {
    "tags": []
   },
   "outputs": [
    {
     "data": {
      "text/html": [
       "<div>\n",
       "<style scoped>\n",
       "    .dataframe tbody tr th:only-of-type {\n",
       "        vertical-align: middle;\n",
       "    }\n",
       "\n",
       "    .dataframe tbody tr th {\n",
       "        vertical-align: top;\n",
       "    }\n",
       "\n",
       "    .dataframe thead th {\n",
       "        text-align: right;\n",
       "    }\n",
       "</style>\n",
       "<table border=\"1\" class=\"dataframe\">\n",
       "  <thead>\n",
       "    <tr style=\"text-align: right;\">\n",
       "      <th></th>\n",
       "      <th>BOROUGH</th>\n",
       "      <th>POPULATION</th>\n",
       "    </tr>\n",
       "  </thead>\n",
       "  <tbody>\n",
       "    <tr>\n",
       "      <th>0</th>\n",
       "      <td>BRONX</td>\n",
       "      <td>1446788</td>\n",
       "    </tr>\n",
       "    <tr>\n",
       "      <th>1</th>\n",
       "      <td>BROOKLYN</td>\n",
       "      <td>2648452</td>\n",
       "    </tr>\n",
       "    <tr>\n",
       "      <th>2</th>\n",
       "      <td>MANHATTAN</td>\n",
       "      <td>1638281</td>\n",
       "    </tr>\n",
       "    <tr>\n",
       "      <th>3</th>\n",
       "      <td>QUEENS</td>\n",
       "      <td>2330295</td>\n",
       "    </tr>\n",
       "    <tr>\n",
       "      <th>4</th>\n",
       "      <td>STATEN ISLAND</td>\n",
       "      <td>487155</td>\n",
       "    </tr>\n",
       "  </tbody>\n",
       "</table>\n",
       "</div>"
      ],
      "text/plain": [
       "         BOROUGH  POPULATION\n",
       "0          BRONX     1446788\n",
       "1       BROOKLYN     2648452\n",
       "2      MANHATTAN     1638281\n",
       "3         QUEENS     2330295\n",
       "4  STATEN ISLAND      487155"
      ]
     },
     "execution_count": 17,
     "metadata": {},
     "output_type": "execute_result"
    }
   ],
   "source": [
    "pop = pd.DataFrame(data = {'BOROUGH': ['BRONX', 'BROOKLYN', 'MANHATTAN', 'QUEENS', 'STATEN ISLAND'],\n",
    "                           'POPULATION': [1446788, 2648452, 1638281, 2330295, 487155], \n",
    "             },) \n",
    "\n",
    "pop"
   ]
  },
  {
   "cell_type": "code",
   "execution_count": 18,
   "id": "3f67f1d0-69f7-4772-a849-ad6ac17ae8f1",
   "metadata": {
    "tags": []
   },
   "outputs": [],
   "source": [
    "df1 = df.merge(pop,how='left', left_on='BOROUGH', right_on='BOROUGH')"
   ]
  },
  {
   "cell_type": "code",
   "execution_count": 19,
   "id": "7244432f-2109-4650-a11f-9df9421ae192",
   "metadata": {
    "tags": []
   },
   "outputs": [
    {
     "data": {
      "text/html": [
       "<div>\n",
       "<style scoped>\n",
       "    .dataframe tbody tr th:only-of-type {\n",
       "        vertical-align: middle;\n",
       "    }\n",
       "\n",
       "    .dataframe tbody tr th {\n",
       "        vertical-align: top;\n",
       "    }\n",
       "\n",
       "    .dataframe thead th {\n",
       "        text-align: right;\n",
       "    }\n",
       "</style>\n",
       "<table border=\"1\" class=\"dataframe\">\n",
       "  <thead>\n",
       "    <tr style=\"text-align: right;\">\n",
       "      <th></th>\n",
       "      <th>CRASH DATE_CRASH TIME</th>\n",
       "      <th>BOROUGH</th>\n",
       "      <th>ZIP CODE</th>\n",
       "      <th>LATITUDE</th>\n",
       "      <th>LONGITUDE</th>\n",
       "      <th>LOCATION</th>\n",
       "      <th>ON STREET NAME</th>\n",
       "      <th>CROSS STREET NAME</th>\n",
       "      <th>OFF STREET NAME</th>\n",
       "      <th>NUMBER OF PERSONS INJURED</th>\n",
       "      <th>...</th>\n",
       "      <th>CONTRIBUTING FACTOR VEHICLE 3</th>\n",
       "      <th>CONTRIBUTING FACTOR VEHICLE 4</th>\n",
       "      <th>CONTRIBUTING FACTOR VEHICLE 5</th>\n",
       "      <th>COLLISION_ID</th>\n",
       "      <th>VEHICLE TYPE CODE 1</th>\n",
       "      <th>VEHICLE TYPE CODE 2</th>\n",
       "      <th>VEHICLE TYPE CODE 3</th>\n",
       "      <th>VEHICLE TYPE CODE 4</th>\n",
       "      <th>VEHICLE TYPE CODE 5</th>\n",
       "      <th>POPULATION</th>\n",
       "    </tr>\n",
       "  </thead>\n",
       "  <tbody>\n",
       "    <tr>\n",
       "      <th>0</th>\n",
       "      <td>2021-09-11 02:39:00</td>\n",
       "      <td>NaN</td>\n",
       "      <td>NaN</td>\n",
       "      <td>NaN</td>\n",
       "      <td>NaN</td>\n",
       "      <td>NaN</td>\n",
       "      <td>WHITESTONE EXPRESSWAY</td>\n",
       "      <td>20 AVENUE</td>\n",
       "      <td>NaN</td>\n",
       "      <td>2.0</td>\n",
       "      <td>...</td>\n",
       "      <td>NaN</td>\n",
       "      <td>NaN</td>\n",
       "      <td>NaN</td>\n",
       "      <td>4455765</td>\n",
       "      <td>Sedan</td>\n",
       "      <td>Sedan</td>\n",
       "      <td>NaN</td>\n",
       "      <td>NaN</td>\n",
       "      <td>NaN</td>\n",
       "      <td>NaN</td>\n",
       "    </tr>\n",
       "    <tr>\n",
       "      <th>1</th>\n",
       "      <td>2022-03-26 11:45:00</td>\n",
       "      <td>NaN</td>\n",
       "      <td>NaN</td>\n",
       "      <td>NaN</td>\n",
       "      <td>NaN</td>\n",
       "      <td>NaN</td>\n",
       "      <td>QUEENSBORO BRIDGE UPPER</td>\n",
       "      <td>NaN</td>\n",
       "      <td>NaN</td>\n",
       "      <td>1.0</td>\n",
       "      <td>...</td>\n",
       "      <td>NaN</td>\n",
       "      <td>NaN</td>\n",
       "      <td>NaN</td>\n",
       "      <td>4513547</td>\n",
       "      <td>Sedan</td>\n",
       "      <td>NaN</td>\n",
       "      <td>NaN</td>\n",
       "      <td>NaN</td>\n",
       "      <td>NaN</td>\n",
       "      <td>NaN</td>\n",
       "    </tr>\n",
       "    <tr>\n",
       "      <th>2</th>\n",
       "      <td>2022-06-29 06:55:00</td>\n",
       "      <td>NaN</td>\n",
       "      <td>NaN</td>\n",
       "      <td>NaN</td>\n",
       "      <td>NaN</td>\n",
       "      <td>NaN</td>\n",
       "      <td>THROGS NECK BRIDGE</td>\n",
       "      <td>NaN</td>\n",
       "      <td>NaN</td>\n",
       "      <td>0.0</td>\n",
       "      <td>...</td>\n",
       "      <td>NaN</td>\n",
       "      <td>NaN</td>\n",
       "      <td>NaN</td>\n",
       "      <td>4541903</td>\n",
       "      <td>Sedan</td>\n",
       "      <td>Pick-up Truck</td>\n",
       "      <td>NaN</td>\n",
       "      <td>NaN</td>\n",
       "      <td>NaN</td>\n",
       "      <td>NaN</td>\n",
       "    </tr>\n",
       "    <tr>\n",
       "      <th>3</th>\n",
       "      <td>2021-09-11 09:35:00</td>\n",
       "      <td>BROOKLYN</td>\n",
       "      <td>11208.0</td>\n",
       "      <td>40.667202</td>\n",
       "      <td>-73.866500</td>\n",
       "      <td>(40.667202, -73.8665)</td>\n",
       "      <td>NaN</td>\n",
       "      <td>NaN</td>\n",
       "      <td>1211      LORING AVENUE</td>\n",
       "      <td>0.0</td>\n",
       "      <td>...</td>\n",
       "      <td>NaN</td>\n",
       "      <td>NaN</td>\n",
       "      <td>NaN</td>\n",
       "      <td>4456314</td>\n",
       "      <td>Sedan</td>\n",
       "      <td>NaN</td>\n",
       "      <td>NaN</td>\n",
       "      <td>NaN</td>\n",
       "      <td>NaN</td>\n",
       "      <td>2648452.0</td>\n",
       "    </tr>\n",
       "    <tr>\n",
       "      <th>4</th>\n",
       "      <td>2021-12-14 08:13:00</td>\n",
       "      <td>BROOKLYN</td>\n",
       "      <td>11233.0</td>\n",
       "      <td>40.683304</td>\n",
       "      <td>-73.917274</td>\n",
       "      <td>(40.683304, -73.917274)</td>\n",
       "      <td>SARATOGA AVENUE</td>\n",
       "      <td>DECATUR STREET</td>\n",
       "      <td>NaN</td>\n",
       "      <td>0.0</td>\n",
       "      <td>...</td>\n",
       "      <td>NaN</td>\n",
       "      <td>NaN</td>\n",
       "      <td>NaN</td>\n",
       "      <td>4486609</td>\n",
       "      <td>NaN</td>\n",
       "      <td>NaN</td>\n",
       "      <td>NaN</td>\n",
       "      <td>NaN</td>\n",
       "      <td>NaN</td>\n",
       "      <td>2648452.0</td>\n",
       "    </tr>\n",
       "    <tr>\n",
       "      <th>...</th>\n",
       "      <td>...</td>\n",
       "      <td>...</td>\n",
       "      <td>...</td>\n",
       "      <td>...</td>\n",
       "      <td>...</td>\n",
       "      <td>...</td>\n",
       "      <td>...</td>\n",
       "      <td>...</td>\n",
       "      <td>...</td>\n",
       "      <td>...</td>\n",
       "      <td>...</td>\n",
       "      <td>...</td>\n",
       "      <td>...</td>\n",
       "      <td>...</td>\n",
       "      <td>...</td>\n",
       "      <td>...</td>\n",
       "      <td>...</td>\n",
       "      <td>...</td>\n",
       "      <td>...</td>\n",
       "      <td>...</td>\n",
       "      <td>...</td>\n",
       "    </tr>\n",
       "    <tr>\n",
       "      <th>2018240</th>\n",
       "      <td>2023-07-03 18:05:00</td>\n",
       "      <td>NaN</td>\n",
       "      <td>NaN</td>\n",
       "      <td>40.866806</td>\n",
       "      <td>-73.931010</td>\n",
       "      <td>(40.866806, -73.93101)</td>\n",
       "      <td>RIVERSIDE DRIVE</td>\n",
       "      <td>NaN</td>\n",
       "      <td>NaN</td>\n",
       "      <td>0.0</td>\n",
       "      <td>...</td>\n",
       "      <td>NaN</td>\n",
       "      <td>NaN</td>\n",
       "      <td>NaN</td>\n",
       "      <td>4648110</td>\n",
       "      <td>Sedan</td>\n",
       "      <td>Sedan</td>\n",
       "      <td>NaN</td>\n",
       "      <td>NaN</td>\n",
       "      <td>NaN</td>\n",
       "      <td>NaN</td>\n",
       "    </tr>\n",
       "    <tr>\n",
       "      <th>2018241</th>\n",
       "      <td>2023-07-22 21:39:00</td>\n",
       "      <td>BRONX</td>\n",
       "      <td>10457.0</td>\n",
       "      <td>40.844177</td>\n",
       "      <td>-73.902920</td>\n",
       "      <td>(40.844177, -73.90292)</td>\n",
       "      <td>EAST 174 STREET</td>\n",
       "      <td>WEBSTER AVENUE</td>\n",
       "      <td>NaN</td>\n",
       "      <td>1.0</td>\n",
       "      <td>...</td>\n",
       "      <td>NaN</td>\n",
       "      <td>NaN</td>\n",
       "      <td>NaN</td>\n",
       "      <td>4648117</td>\n",
       "      <td>Sedan</td>\n",
       "      <td>NaN</td>\n",
       "      <td>NaN</td>\n",
       "      <td>NaN</td>\n",
       "      <td>NaN</td>\n",
       "      <td>1446788.0</td>\n",
       "    </tr>\n",
       "    <tr>\n",
       "      <th>2018242</th>\n",
       "      <td>2023-07-02 17:55:00</td>\n",
       "      <td>MANHATTAN</td>\n",
       "      <td>10006.0</td>\n",
       "      <td>40.711033</td>\n",
       "      <td>-74.014540</td>\n",
       "      <td>(40.711033, -74.01454)</td>\n",
       "      <td>WEST STREET</td>\n",
       "      <td>LIBERTY STREET</td>\n",
       "      <td>NaN</td>\n",
       "      <td>0.0</td>\n",
       "      <td>...</td>\n",
       "      <td>NaN</td>\n",
       "      <td>NaN</td>\n",
       "      <td>NaN</td>\n",
       "      <td>4648366</td>\n",
       "      <td>Taxi</td>\n",
       "      <td>NaN</td>\n",
       "      <td>NaN</td>\n",
       "      <td>NaN</td>\n",
       "      <td>NaN</td>\n",
       "      <td>1638281.0</td>\n",
       "    </tr>\n",
       "    <tr>\n",
       "      <th>2018243</th>\n",
       "      <td>2023-07-22 13:15:00</td>\n",
       "      <td>QUEENS</td>\n",
       "      <td>11433.0</td>\n",
       "      <td>40.691580</td>\n",
       "      <td>-73.793190</td>\n",
       "      <td>(40.69158, -73.79319)</td>\n",
       "      <td>110 AVENUE</td>\n",
       "      <td>157 STREET</td>\n",
       "      <td>NaN</td>\n",
       "      <td>1.0</td>\n",
       "      <td>...</td>\n",
       "      <td>NaN</td>\n",
       "      <td>NaN</td>\n",
       "      <td>NaN</td>\n",
       "      <td>4648129</td>\n",
       "      <td>Station Wagon/Sport Utility Vehicle</td>\n",
       "      <td>E-Bike</td>\n",
       "      <td>NaN</td>\n",
       "      <td>NaN</td>\n",
       "      <td>NaN</td>\n",
       "      <td>2330295.0</td>\n",
       "    </tr>\n",
       "    <tr>\n",
       "      <th>2018244</th>\n",
       "      <td>2023-07-22 03:00:00</td>\n",
       "      <td>QUEENS</td>\n",
       "      <td>11433.0</td>\n",
       "      <td>40.700240</td>\n",
       "      <td>-73.792854</td>\n",
       "      <td>(40.70024, -73.792854)</td>\n",
       "      <td>SOUTH ROAD</td>\n",
       "      <td>164 STREET</td>\n",
       "      <td>NaN</td>\n",
       "      <td>0.0</td>\n",
       "      <td>...</td>\n",
       "      <td>NaN</td>\n",
       "      <td>NaN</td>\n",
       "      <td>NaN</td>\n",
       "      <td>4647913</td>\n",
       "      <td>Sedan</td>\n",
       "      <td>NaN</td>\n",
       "      <td>NaN</td>\n",
       "      <td>NaN</td>\n",
       "      <td>NaN</td>\n",
       "      <td>2330295.0</td>\n",
       "    </tr>\n",
       "  </tbody>\n",
       "</table>\n",
       "<p>2018245 rows × 29 columns</p>\n",
       "</div>"
      ],
      "text/plain": [
       "        CRASH DATE_CRASH TIME    BOROUGH ZIP CODE   LATITUDE  LONGITUDE  \\\n",
       "0         2021-09-11 02:39:00        NaN      NaN        NaN        NaN   \n",
       "1         2022-03-26 11:45:00        NaN      NaN        NaN        NaN   \n",
       "2         2022-06-29 06:55:00        NaN      NaN        NaN        NaN   \n",
       "3         2021-09-11 09:35:00   BROOKLYN  11208.0  40.667202 -73.866500   \n",
       "4         2021-12-14 08:13:00   BROOKLYN  11233.0  40.683304 -73.917274   \n",
       "...                       ...        ...      ...        ...        ...   \n",
       "2018240   2023-07-03 18:05:00        NaN      NaN  40.866806 -73.931010   \n",
       "2018241   2023-07-22 21:39:00      BRONX  10457.0  40.844177 -73.902920   \n",
       "2018242   2023-07-02 17:55:00  MANHATTAN  10006.0  40.711033 -74.014540   \n",
       "2018243   2023-07-22 13:15:00     QUEENS  11433.0  40.691580 -73.793190   \n",
       "2018244   2023-07-22 03:00:00     QUEENS  11433.0  40.700240 -73.792854   \n",
       "\n",
       "                        LOCATION           ON STREET NAME CROSS STREET NAME  \\\n",
       "0                            NaN    WHITESTONE EXPRESSWAY         20 AVENUE   \n",
       "1                            NaN  QUEENSBORO BRIDGE UPPER               NaN   \n",
       "2                            NaN       THROGS NECK BRIDGE               NaN   \n",
       "3          (40.667202, -73.8665)                      NaN               NaN   \n",
       "4        (40.683304, -73.917274)          SARATOGA AVENUE    DECATUR STREET   \n",
       "...                          ...                      ...               ...   \n",
       "2018240   (40.866806, -73.93101)          RIVERSIDE DRIVE               NaN   \n",
       "2018241   (40.844177, -73.90292)          EAST 174 STREET    WEBSTER AVENUE   \n",
       "2018242   (40.711033, -74.01454)              WEST STREET    LIBERTY STREET   \n",
       "2018243    (40.69158, -73.79319)               110 AVENUE        157 STREET   \n",
       "2018244   (40.70024, -73.792854)               SOUTH ROAD        164 STREET   \n",
       "\n",
       "                 OFF STREET NAME  NUMBER OF PERSONS INJURED  ...  \\\n",
       "0                            NaN                        2.0  ...   \n",
       "1                            NaN                        1.0  ...   \n",
       "2                            NaN                        0.0  ...   \n",
       "3        1211      LORING AVENUE                        0.0  ...   \n",
       "4                            NaN                        0.0  ...   \n",
       "...                          ...                        ...  ...   \n",
       "2018240                      NaN                        0.0  ...   \n",
       "2018241                      NaN                        1.0  ...   \n",
       "2018242                      NaN                        0.0  ...   \n",
       "2018243                      NaN                        1.0  ...   \n",
       "2018244                      NaN                        0.0  ...   \n",
       "\n",
       "         CONTRIBUTING FACTOR VEHICLE 3  CONTRIBUTING FACTOR VEHICLE 4  \\\n",
       "0                                  NaN                            NaN   \n",
       "1                                  NaN                            NaN   \n",
       "2                                  NaN                            NaN   \n",
       "3                                  NaN                            NaN   \n",
       "4                                  NaN                            NaN   \n",
       "...                                ...                            ...   \n",
       "2018240                            NaN                            NaN   \n",
       "2018241                            NaN                            NaN   \n",
       "2018242                            NaN                            NaN   \n",
       "2018243                            NaN                            NaN   \n",
       "2018244                            NaN                            NaN   \n",
       "\n",
       "         CONTRIBUTING FACTOR VEHICLE 5  COLLISION_ID  \\\n",
       "0                                  NaN       4455765   \n",
       "1                                  NaN       4513547   \n",
       "2                                  NaN       4541903   \n",
       "3                                  NaN       4456314   \n",
       "4                                  NaN       4486609   \n",
       "...                                ...           ...   \n",
       "2018240                            NaN       4648110   \n",
       "2018241                            NaN       4648117   \n",
       "2018242                            NaN       4648366   \n",
       "2018243                            NaN       4648129   \n",
       "2018244                            NaN       4647913   \n",
       "\n",
       "                         VEHICLE TYPE CODE 1  VEHICLE TYPE CODE 2  \\\n",
       "0                                      Sedan                Sedan   \n",
       "1                                      Sedan                  NaN   \n",
       "2                                      Sedan        Pick-up Truck   \n",
       "3                                      Sedan                  NaN   \n",
       "4                                        NaN                  NaN   \n",
       "...                                      ...                  ...   \n",
       "2018240                                Sedan                Sedan   \n",
       "2018241                                Sedan                  NaN   \n",
       "2018242                                 Taxi                  NaN   \n",
       "2018243  Station Wagon/Sport Utility Vehicle               E-Bike   \n",
       "2018244                                Sedan                  NaN   \n",
       "\n",
       "         VEHICLE TYPE CODE 3 VEHICLE TYPE CODE 4 VEHICLE TYPE CODE 5  \\\n",
       "0                        NaN                 NaN                 NaN   \n",
       "1                        NaN                 NaN                 NaN   \n",
       "2                        NaN                 NaN                 NaN   \n",
       "3                        NaN                 NaN                 NaN   \n",
       "4                        NaN                 NaN                 NaN   \n",
       "...                      ...                 ...                 ...   \n",
       "2018240                  NaN                 NaN                 NaN   \n",
       "2018241                  NaN                 NaN                 NaN   \n",
       "2018242                  NaN                 NaN                 NaN   \n",
       "2018243                  NaN                 NaN                 NaN   \n",
       "2018244                  NaN                 NaN                 NaN   \n",
       "\n",
       "        POPULATION  \n",
       "0              NaN  \n",
       "1              NaN  \n",
       "2              NaN  \n",
       "3        2648452.0  \n",
       "4        2648452.0  \n",
       "...            ...  \n",
       "2018240        NaN  \n",
       "2018241  1446788.0  \n",
       "2018242  1638281.0  \n",
       "2018243  2330295.0  \n",
       "2018244  2330295.0  \n",
       "\n",
       "[2018245 rows x 29 columns]"
      ]
     },
     "execution_count": 19,
     "metadata": {},
     "output_type": "execute_result"
    }
   ],
   "source": [
    "df1"
   ]
  },
  {
   "cell_type": "code",
   "execution_count": 74,
   "id": "d785cd0a-4005-4bfc-88a3-ed6c58f814dd",
   "metadata": {
    "tags": []
   },
   "outputs": [
    {
     "data": {
      "text/plain": [
       "BOROUGH\n",
       "BRONX            205345\n",
       "BROOKLYN         441026\n",
       "MANHATTAN        313266\n",
       "QUEENS           372457\n",
       "STATEN ISLAND     58297\n",
       "Name: COLLISION_ID, dtype: int64"
      ]
     },
     "execution_count": 74,
     "metadata": {},
     "output_type": "execute_result"
    }
   ],
   "source": [
    "df.groupby('BOROUGH')['COLLISION_ID'].count()"
   ]
  },
  {
   "cell_type": "code",
   "execution_count": 72,
   "id": "d878ef9d-1d36-414c-9f83-c6c3b488cb5f",
   "metadata": {
    "tags": []
   },
   "outputs": [
    {
     "data": {
      "text/plain": [
       "BOROUGH\n",
       "BRONX            1446788.0\n",
       "BROOKLYN         2648452.0\n",
       "MANHATTAN        1638281.0\n",
       "QUEENS           2330295.0\n",
       "STATEN ISLAND     487155.0\n",
       "Name: POPULATION, dtype: float64"
      ]
     },
     "execution_count": 72,
     "metadata": {},
     "output_type": "execute_result"
    }
   ],
   "source": [
    "df1.groupby('BOROUGH')['POPULATION'].first()"
   ]
  },
  {
   "cell_type": "code",
   "execution_count": 76,
   "id": "81a522f1-20d5-473a-8c40-845b3d551051",
   "metadata": {
    "tags": []
   },
   "outputs": [
    {
     "data": {
      "text/plain": [
       "BOROUGH\n",
       "MANHATTAN        19121.628097\n",
       "BROOKLYN         16652.217975\n",
       "QUEENS           15983.255339\n",
       "BRONX            14193.164444\n",
       "STATEN ISLAND    11966.827806\n",
       "dtype: float64"
      ]
     },
     "execution_count": 76,
     "metadata": {},
     "output_type": "execute_result"
    }
   ],
   "source": [
    "((df.groupby('BOROUGH')['COLLISION_ID'].count() / df1.groupby('BOROUGH')['POPULATION'].first()) * 100000).sort_values(ascending=False)"
   ]
  },
  {
   "cell_type": "markdown",
   "id": "ef0c5d5b-e968-4be8-b7b7-865bb3fc23d4",
   "metadata": {},
   "source": [
    "## Analyzing the leading cause of crashes"
   ]
  },
  {
   "cell_type": "code",
   "execution_count": 154,
   "id": "7432f775-794a-4c7f-9893-9cc97a185d52",
   "metadata": {
    "tags": []
   },
   "outputs": [
    {
     "data": {
      "text/plain": [
       "CONTRIBUTING FACTOR VEHICLE 1\n",
       "Driver Inattention/Distraction    30.41797\n",
       "Name: count, dtype: float64"
      ]
     },
     "execution_count": 154,
     "metadata": {},
     "output_type": "execute_result"
    }
   ],
   "source": [
    "remove = \"Unspecified\"\n",
    "\n",
    "# Create a new Series excluding the row with the value to remove\n",
    "factor1 = df['CONTRIBUTING FACTOR VEHICLE 1'].value_counts().sort_values(ascending=False)\n",
    "factor1 = factor1[factor1.index != remove]\n",
    "(factor1.head(1) / factor1.sum())*100"
   ]
  },
  {
   "cell_type": "markdown",
   "id": "1335f127-2b39-460f-ad01-fc21a37b6cb6",
   "metadata": {},
   "source": [
    "## Top 3 causes of crashes "
   ]
  },
  {
   "cell_type": "code",
   "execution_count": 151,
   "id": "27b991bc-7300-4e43-87b6-7aef4e30b5e3",
   "metadata": {
    "tags": []
   },
   "outputs": [
    {
     "data": {
      "text/plain": [
       "0.4759805664357876"
      ]
     },
     "execution_count": 151,
     "metadata": {},
     "output_type": "execute_result"
    }
   ],
   "source": [
    "factor1.head(3).sum() /factor1.sum()"
   ]
  },
  {
   "cell_type": "markdown",
   "id": "af729ee2-786e-4c89-abfd-e3d24e2823f1",
   "metadata": {},
   "source": [
    "## Analyzing fatalities"
   ]
  },
  {
   "cell_type": "code",
   "execution_count": 113,
   "id": "eca5bee3-6ec7-4ac2-98c1-d97267e9104b",
   "metadata": {
    "tags": []
   },
   "outputs": [
    {
     "data": {
      "text/plain": [
       "NUMBER OF PERSONS KILLED\n",
       "0.0    2015410\n",
       "1.0       2716\n",
       "2.0         71\n",
       "3.0         12\n",
       "4.0          3\n",
       "8.0          1\n",
       "5.0          1\n",
       "Name: count, dtype: int64"
      ]
     },
     "execution_count": 113,
     "metadata": {},
     "output_type": "execute_result"
    }
   ],
   "source": [
    "df['NUMBER OF PERSONS KILLED'].value_counts()"
   ]
  },
  {
   "cell_type": "code",
   "execution_count": 114,
   "id": "21b4066e-5d0f-4c42-92ab-5485d4a5b6b3",
   "metadata": {
    "tags": []
   },
   "outputs": [
    {
     "name": "stdout",
     "output_type": "stream",
     "text": [
      "Total Crashes with at Least 1 Person Killed: 2804\n"
     ]
    }
   ],
   "source": [
    "total_crashes_with_killed = (df['NUMBER OF PERSONS KILLED'] >= 1).sum()\n",
    "\n",
    "print(\"Total Crashes with at Least 1 Person Killed:\", total_crashes_with_killed)"
   ]
  },
  {
   "cell_type": "markdown",
   "id": "529a81c2-4eec-46d5-be60-1ff75d82baf5",
   "metadata": {},
   "source": [
    "## Likelihood of fatal accidents\n",
    "#### On average, out of every 1000 accidents, how many have resulted in at least one person dead?"
   ]
  },
  {
   "cell_type": "code",
   "execution_count": 115,
   "id": "27cd0c11-22cf-4fd4-8a08-4947391358c9",
   "metadata": {
    "tags": []
   },
   "outputs": [
    {
     "name": "stdout",
     "output_type": "stream",
     "text": [
      "On average, out of every 1000 accidents, approximately 1.3893258747079764 result in at least one person dead.\n"
     ]
    }
   ],
   "source": [
    "total_accidents = len(df)  # Total number of accidents\n",
    "total_accidents_with_killed = (df['NUMBER OF PERSONS KILLED'] >= 1).sum()  # Total number of accidents with at least 1 person killed\n",
    "\n",
    "# Calculate the average per 1000 accidents\n",
    "average_per_1000_accidents = (total_accidents_with_killed / total_accidents) * 1000\n",
    "\n",
    "print(\"On average, out of every 1000 accidents, approximately\", average_per_1000_accidents, \"result in at least one person dead.\")"
   ]
  },
  {
   "cell_type": "markdown",
   "id": "8ad2d315-425c-44bb-a6ee-33f9941e591c",
   "metadata": {},
   "source": [
    "## Missing data\n",
    "#### What proportion of accidents in the data do not have a Borough code?"
   ]
  },
  {
   "cell_type": "code",
   "execution_count": 153,
   "id": "82ff7c6c-6e89-4f47-b960-2bdcfde66f5d",
   "metadata": {
    "tags": []
   },
   "outputs": [
    {
     "name": "stdout",
     "output_type": "stream",
     "text": [
      "Proportion of accidents without a Borough code: 31.10890897784957\n"
     ]
    }
   ],
   "source": [
    "missing_borough_count = df['BOROUGH'].isna().sum()\n",
    "\n",
    "total_accidents = len(df)\n",
    "\n",
    "proportion_without_borough = (missing_borough_count / total_accidents) * 100\n",
    "\n",
    "print(\"Proportion of accidents without a Borough code:\", proportion_without_borough)"
   ]
  },
  {
   "cell_type": "code",
   "execution_count": 117,
   "id": "91134eea-e47b-49ea-92b0-849360c58ed4",
   "metadata": {
    "tags": []
   },
   "outputs": [
    {
     "data": {
      "text/plain": [
       "627854"
      ]
     },
     "execution_count": 117,
     "metadata": {},
     "output_type": "execute_result"
    }
   ],
   "source": [
    "df['BOROUGH'].isna().sum()"
   ]
  },
  {
   "cell_type": "markdown",
   "id": "54f883ce-64fe-4c77-a4a3-49def210382d",
   "metadata": {
    "tags": []
   },
   "source": [
    "## Which combinations of vehicles have the most number of accidents"
   ]
  },
  {
   "cell_type": "code",
   "execution_count": 139,
   "id": "f8fd05df-5112-421f-a82f-e536d2d51336",
   "metadata": {
    "tags": []
   },
   "outputs": [
    {
     "data": {
      "text/plain": [
       "VEHICLE TYPE CODE 1                  VEHICLE TYPE CODE 2                \n",
       "Sedan                                Sedan                                  197944\n",
       "PASSENGER VEHICLE                    PASSENGER VEHICLE                      193260\n",
       "Station Wagon/Sport Utility Vehicle  Station Wagon/Sport Utility Vehicle    133780\n",
       "Sedan                                Station Wagon/Sport Utility Vehicle    123915\n",
       "Station Wagon/Sport Utility Vehicle  Sedan                                  123812\n",
       "PASSENGER VEHICLE                    SPORT UTILITY / STATION WAGON           63053\n",
       "SPORT UTILITY / STATION WAGON        PASSENGER VEHICLE                       62982\n",
       "                                     SPORT UTILITY / STATION WAGON           50156\n",
       "PASSENGER VEHICLE                    UNKNOWN                                 49073\n",
       "SPORT UTILITY / STATION WAGON        UNKNOWN                                 19412\n",
       "Name: count, dtype: int64"
      ]
     },
     "execution_count": 139,
     "metadata": {},
     "output_type": "execute_result"
    }
   ],
   "source": [
    "vehicle_columns = ['VEHICLE TYPE CODE 1', 'VEHICLE TYPE CODE 2']\n",
    "vehicle = df[vehicle_columns].value_counts()\n",
    "vehicle.head(10)"
   ]
  },
  {
   "cell_type": "markdown",
   "id": "3ca87ac5-5ade-4e1c-aeb8-0704afe6b2ac",
   "metadata": {},
   "source": [
    "***  \n",
    "## Finished"
   ]
  },
  {
   "cell_type": "code",
   "execution_count": null,
   "id": "372cbed9-ce19-4ac7-8cb5-fd4a304f92b2",
   "metadata": {},
   "outputs": [],
   "source": []
  }
 ],
 "metadata": {
  "kernelspec": {
   "display_name": "Python [conda env:mggy8413]",
   "language": "python",
   "name": "conda-env-mggy8413-py"
  },
  "language_info": {
   "codemirror_mode": {
    "name": "ipython",
    "version": 3
   },
   "file_extension": ".py",
   "mimetype": "text/x-python",
   "name": "python",
   "nbconvert_exporter": "python",
   "pygments_lexer": "ipython3",
   "version": "3.10.12"
  }
 },
 "nbformat": 4,
 "nbformat_minor": 5
}
